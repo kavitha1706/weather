{
  "nbformat": 4,
  "nbformat_minor": 0,
  "metadata": {
    "colab": {
      "name": "weather.ipynb",
      "provenance": []
    },
    "kernelspec": {
      "name": "python3",
      "display_name": "Python 3"
    },
    "language_info": {
      "name": "python"
    }
  },
  "cells": [
    {
      "cell_type": "code",
      "metadata": {
        "id": "QH18-oiH3RFv",
        "colab": {
          "base_uri": "https://localhost:8080/"
        },
        "outputId": "b095f8d1-2c47-4127-b299-a8abdf691b13"
      },
      "source": [
        "import requests\n",
        "#import os\n",
        "from datetime import datetime\n",
        "\n",
        "api_key='e52b9f61b1920230ad30b46ed94d2b10'\n",
        "location=input(\"Enter the city name: \" )\n",
        "\n",
        "complete_api_link = \"https://api.openweathermap.org/data/2.5/weather?q=\" +location+\"&appid=\"+api_key\n",
        "api_link=requests.get(complete_api_link)\n",
        "api_data=api_link.json()\n",
        "\n",
        "#create variables to store and display data\n",
        "temp_city= ((api_data['main']['temp']) - 273.15)\n",
        "weather_desc=api_data['weather'][0]['description']\n",
        "hmdt=api_data['main']['humidity']\n",
        "wind_spd=api_data['wind']['speed']\n",
        "date_time=datetime.now().strftime(\"%d %b %Y | %I:%M:%S %p\")\n",
        "\n",
        "print(\"-----------------------------------------------------------------\")\n",
        "print(\"Weather Starts for -{} ||  {}\".format(location.upper(),date_time))\n",
        "print(\"------------------------------------------------------------------\")\n",
        "\n",
        "print(\"Current  temperature is :{:.2f} deg C\".format(temp_city))\n",
        "print(\"Current weather desc :\",weather_desc)\n",
        "print(\"Current Humidity :\" , hmdt, '%')\n",
        "print(\"      Current wind speed :\",wind_spd,'kmph')\n",
        "\n"
      ],
      "execution_count": 15,
      "outputs": [
        {
          "output_type": "stream",
          "text": [
            "Enter the city name: tirunelveli\n",
            "-----------------------------------------------------------------\n",
            "Weather Starts for -TIRUNELVELI ||  23 Jun 2021 | 07:42:24 AM\n",
            "------------------------------------------------------------------\n",
            "Current  temperature is :34.95 deg C\n",
            "Current weather desc : scattered clouds\n",
            "Current Humidity : 30 %\n",
            "Current wind speed : 3.9 kmph\n"
          ],
          "name": "stdout"
        }
      ]
    }
  ]
}